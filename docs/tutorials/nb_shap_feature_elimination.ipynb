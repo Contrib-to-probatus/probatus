{
 "cells": [
  {
   "cell_type": "markdown",
   "metadata": {},
   "source": [
    "# Recursive Feature Elimination using SHAP importance and CV\n",
    "\n",
    "Backwards Recursive Feature Elimination allows to efficiently reduce the number of features in your dataset, without losing the predictive power of the model. `probatus` implements the following feature elimination routine for **tree-based models**:\n",
    "\n",
    "\n",
    "    While any features left, iterate:\n",
    "        1. (Optional) Tune hyperparameters, in case `GridSearchCV` or `RandomSearchCV` are provided as estimators,\n",
    "        2. Calculate SHAP feature importance using Cross-Validation,\n",
    "        3. Remove `step` lowest importance features.\n",
    "\n",
    "\n",
    "The functionality is similar to [RFECV](https://scikit-learn.org/stable/modules/generated/sklearn.feature_selection.RFECV.html), yet, it removes the lowest importance features based on SHAP features importance. It also supports the use of [GridSearchCV](https://scikit-learn.org/stable/modules/generated/sklearn.model_selection.GridSearchCV.html) and [RandomizedSearchCV](https://scikit-learn.org/stable/modules/generated/sklearn.model_selection.RandomizedSearchCV.html) passed as a `clf`, thanks to which you can perform hyperparameter optimization at each step of the search.\n",
    "hyperparameters of the model at each round, to tune the model for each features set. Lastly, it supports categorical features (`object` and `category` dtype) and missing values in the data, as long as the model supports them.\n",
    " \n",
    "The main advantages of using this routine are:\n",
    "\n",
    "- The approach uses a tree-based model to detect the complex relations between features and the target.\n",
    "- Uses SHAP importance, which is one of the most reliable ways to estimate features importance. Unlike many other techniques, it works with missing values and categorical variables.\n",
    "- Allows to us [GridSearchCV](https://scikit-learn.org/stable/modules/generated/sklearn.model_selection.GridSearchCV.html) and [RandomizedSearchCV](https://scikit-learn.org/stable/modules/generated/sklearn.model_selection.RandomizedSearchCV.html) in order to optimize hyperparameters at each iteration. This way you can assess if the removal of a given feature reduces the predictive power, or simply requires additional tuning of the model.\n",
    "\n",
    "The disadvantages are:\n",
    "- One needs to manually select how many features to keep at the end of the routine, based on how the performance of the model changes between rounds.\n",
    "- Removing lowest [SHAP](https://shap.readthedocs.io/en/latest/) importance feature does not always translate to choosing the feature with lowest impact on model's performance. Shap importance illustrates how strongly a given feature affects the output of the model, while disregarding correctness of this prediction.\n",
    "- Currently, the functionality only supports tree-based binary classifiers, in the future the scope might be extended.\n",
    "\n",
    "## Setup the dataset\n",
    "\n",
    "In order to use the functionality, let's set up an example dataset with:\n",
    "- numerical features\n",
    "- 1 categorical feature\n",
    "- 1 static feature\n",
    "- 1 feature with missing values"
   ]
  },
  {
   "cell_type": "code",
   "execution_count": 9,
   "metadata": {},
   "outputs": [],
   "source": [
    "from probatus.feature_elimination import ShapRFECV\n",
    "from sklearn.datasets import make_classification\n",
    "from sklearn.model_selection import train_test_split\n",
    "import numpy as np\n",
    "import pandas as pd\n",
    "import lightgbm\n",
    "from sklearn.model_selection import RandomizedSearchCV\n",
    " \n",
    "feature_names = ['f1_categorical', 'f2_missing', 'f3_static', 'f4', 'f5', 'f6', 'f7', 'f8', 'f9', 'f10', 'f11', 'f12', 'f13', 'f14', 'f15', 'f16', 'f17', 'f18', 'f19', 'f20']\n",
    " \n",
    "# Prepare two samples\n",
    "X, y = make_classification(n_samples=1000, class_sep=0.05, n_informative=6, n_features=20,\n",
    "                           random_state=0, n_redundant=10, n_clusters_per_class=1)\n",
    "X = pd.DataFrame(X, columns=feature_names)\n",
    "X['f1_categorical'] = X['f1_categorical'].apply(lambda x: str(np.round(x*10)))\n",
    "X['f2_missing'] = X['f2_missing'].apply(lambda x: x if np.random.rand()<0.8 else np.nan)\n",
    "X['f3_static'] = 0"
   ]
  },
  {
   "cell_type": "code",
   "execution_count": 10,
   "metadata": {},
   "outputs": [
    {
     "data": {
      "text/html": [
       "<div>\n",
       "<style scoped>\n",
       "    .dataframe tbody tr th:only-of-type {\n",
       "        vertical-align: middle;\n",
       "    }\n",
       "\n",
       "    .dataframe tbody tr th {\n",
       "        vertical-align: top;\n",
       "    }\n",
       "\n",
       "    .dataframe thead th {\n",
       "        text-align: right;\n",
       "    }\n",
       "</style>\n",
       "<table border=\"1\" class=\"dataframe\">\n",
       "  <thead>\n",
       "    <tr style=\"text-align: right;\">\n",
       "      <th></th>\n",
       "      <th>f1_categorical</th>\n",
       "      <th>f2_missing</th>\n",
       "      <th>f3_static</th>\n",
       "      <th>f4</th>\n",
       "      <th>f5</th>\n",
       "      <th>f6</th>\n",
       "      <th>f7</th>\n",
       "      <th>f8</th>\n",
       "      <th>f9</th>\n",
       "      <th>f10</th>\n",
       "      <th>f11</th>\n",
       "      <th>f12</th>\n",
       "      <th>f13</th>\n",
       "      <th>f14</th>\n",
       "      <th>f15</th>\n",
       "      <th>f16</th>\n",
       "      <th>f17</th>\n",
       "      <th>f18</th>\n",
       "      <th>f19</th>\n",
       "      <th>f20</th>\n",
       "    </tr>\n",
       "  </thead>\n",
       "  <tbody>\n",
       "    <tr>\n",
       "      <th>0</th>\n",
       "      <td>34.0</td>\n",
       "      <td>-3.902230</td>\n",
       "      <td>0</td>\n",
       "      <td>0.037207</td>\n",
       "      <td>-0.211075</td>\n",
       "      <td>2.378358</td>\n",
       "      <td>0.474059</td>\n",
       "      <td>-0.580471</td>\n",
       "      <td>2.523367</td>\n",
       "      <td>1.265063</td>\n",
       "      <td>-0.698129</td>\n",
       "      <td>0.320310</td>\n",
       "      <td>0.373186</td>\n",
       "      <td>1.828942</td>\n",
       "      <td>-3.116881</td>\n",
       "      <td>-0.960251</td>\n",
       "      <td>-0.031511</td>\n",
       "      <td>-1.294803</td>\n",
       "      <td>0.115819</td>\n",
       "      <td>-2.727467</td>\n",
       "    </tr>\n",
       "    <tr>\n",
       "      <th>1</th>\n",
       "      <td>-25.0</td>\n",
       "      <td>NaN</td>\n",
       "      <td>0</td>\n",
       "      <td>0.302824</td>\n",
       "      <td>0.729950</td>\n",
       "      <td>0.815054</td>\n",
       "      <td>1.157228</td>\n",
       "      <td>1.347449</td>\n",
       "      <td>-1.880812</td>\n",
       "      <td>0.222902</td>\n",
       "      <td>2.293246</td>\n",
       "      <td>0.286349</td>\n",
       "      <td>0.063909</td>\n",
       "      <td>0.036967</td>\n",
       "      <td>-1.016085</td>\n",
       "      <td>0.035576</td>\n",
       "      <td>-0.439491</td>\n",
       "      <td>0.823261</td>\n",
       "      <td>2.284586</td>\n",
       "      <td>0.674484</td>\n",
       "    </tr>\n",
       "    <tr>\n",
       "      <th>2</th>\n",
       "      <td>-7.0</td>\n",
       "      <td>NaN</td>\n",
       "      <td>0</td>\n",
       "      <td>1.837895</td>\n",
       "      <td>-0.745689</td>\n",
       "      <td>0.327826</td>\n",
       "      <td>0.755258</td>\n",
       "      <td>1.499059</td>\n",
       "      <td>-1.987181</td>\n",
       "      <td>0.093551</td>\n",
       "      <td>0.734911</td>\n",
       "      <td>0.579087</td>\n",
       "      <td>0.216668</td>\n",
       "      <td>-1.523017</td>\n",
       "      <td>-1.940202</td>\n",
       "      <td>0.763642</td>\n",
       "      <td>-0.764415</td>\n",
       "      <td>1.879374</td>\n",
       "      <td>1.239255</td>\n",
       "      <td>0.767797</td>\n",
       "    </tr>\n",
       "    <tr>\n",
       "      <th>3</th>\n",
       "      <td>-53.0</td>\n",
       "      <td>NaN</td>\n",
       "      <td>0</td>\n",
       "      <td>-1.277930</td>\n",
       "      <td>3.688404</td>\n",
       "      <td>-2.369522</td>\n",
       "      <td>0.927847</td>\n",
       "      <td>-0.155483</td>\n",
       "      <td>-2.434361</td>\n",
       "      <td>0.448693</td>\n",
       "      <td>2.021587</td>\n",
       "      <td>-0.609161</td>\n",
       "      <td>-1.699683</td>\n",
       "      <td>-2.938755</td>\n",
       "      <td>1.995516</td>\n",
       "      <td>-2.558037</td>\n",
       "      <td>-1.103081</td>\n",
       "      <td>3.084860</td>\n",
       "      <td>6.632615</td>\n",
       "      <td>0.754824</td>\n",
       "    </tr>\n",
       "    <tr>\n",
       "      <th>4</th>\n",
       "      <td>-10.0</td>\n",
       "      <td>1.505766</td>\n",
       "      <td>0</td>\n",
       "      <td>-0.576209</td>\n",
       "      <td>-0.790525</td>\n",
       "      <td>-0.585126</td>\n",
       "      <td>-0.499129</td>\n",
       "      <td>1.324540</td>\n",
       "      <td>-0.077793</td>\n",
       "      <td>0.352424</td>\n",
       "      <td>-1.728604</td>\n",
       "      <td>0.987153</td>\n",
       "      <td>-0.754924</td>\n",
       "      <td>0.257670</td>\n",
       "      <td>1.381853</td>\n",
       "      <td>1.751669</td>\n",
       "      <td>-1.043428</td>\n",
       "      <td>-0.848575</td>\n",
       "      <td>-3.581535</td>\n",
       "      <td>2.810744</td>\n",
       "    </tr>\n",
       "  </tbody>\n",
       "</table>\n",
       "</div>"
      ],
      "text/plain": [
       "  f1_categorical  f2_missing  f3_static        f4        f5        f6  \\\n",
       "0           34.0   -3.902230          0  0.037207 -0.211075  2.378358   \n",
       "1          -25.0         NaN          0  0.302824  0.729950  0.815054   \n",
       "2           -7.0         NaN          0  1.837895 -0.745689  0.327826   \n",
       "3          -53.0         NaN          0 -1.277930  3.688404 -2.369522   \n",
       "4          -10.0    1.505766          0 -0.576209 -0.790525 -0.585126   \n",
       "\n",
       "         f7        f8        f9       f10       f11       f12       f13  \\\n",
       "0  0.474059 -0.580471  2.523367  1.265063 -0.698129  0.320310  0.373186   \n",
       "1  1.157228  1.347449 -1.880812  0.222902  2.293246  0.286349  0.063909   \n",
       "2  0.755258  1.499059 -1.987181  0.093551  0.734911  0.579087  0.216668   \n",
       "3  0.927847 -0.155483 -2.434361  0.448693  2.021587 -0.609161 -1.699683   \n",
       "4 -0.499129  1.324540 -0.077793  0.352424 -1.728604  0.987153 -0.754924   \n",
       "\n",
       "        f14       f15       f16       f17       f18       f19       f20  \n",
       "0  1.828942 -3.116881 -0.960251 -0.031511 -1.294803  0.115819 -2.727467  \n",
       "1  0.036967 -1.016085  0.035576 -0.439491  0.823261  2.284586  0.674484  \n",
       "2 -1.523017 -1.940202  0.763642 -0.764415  1.879374  1.239255  0.767797  \n",
       "3 -2.938755  1.995516 -2.558037 -1.103081  3.084860  6.632615  0.754824  \n",
       "4  0.257670  1.381853  1.751669 -1.043428 -0.848575 -3.581535  2.810744  "
      ]
     },
     "execution_count": 10,
     "metadata": {},
     "output_type": "execute_result"
    }
   ],
   "source": [
    "X.head()"
   ]
  },
  {
   "cell_type": "code",
   "execution_count": 11,
   "metadata": {},
   "outputs": [
    {
     "data": {
      "text/plain": [
       "f1_categorical     object\n",
       "f2_missing        float64\n",
       "f3_static           int64\n",
       "f4                float64\n",
       "f5                float64\n",
       "dtype: object"
      ]
     },
     "execution_count": 11,
     "metadata": {},
     "output_type": "execute_result"
    }
   ],
   "source": [
    "X.dtypes.head()"
   ]
  },
  {
   "cell_type": "markdown",
   "metadata": {},
   "source": [
    "## Set up the model and model tuning\n",
    "\n",
    "You need to set up the model that you would like to use in the feature elimination. `probatus` requires a **tree-based binary classifier** in order to speed up the computation of SHAP feature importance at each step. \n",
    "We recommend using [LGBMClassifier](https://lightgbm.readthedocs.io/en/latest/pythonapi/lightgbm.LGBMClassifier.html), which by default handles missing values and categorical features.\n",
    "\n",
    "The example below applies randomized search in order to optimize the hyperparameters of the model at each iteration of the search."
   ]
  },
  {
   "cell_type": "code",
   "execution_count": 12,
   "metadata": {
    "scrolled": false
   },
   "outputs": [],
   "source": [
    "clf = lightgbm.LGBMClassifier(max_depth=5, class_weight='balanced')\n",
    "\n",
    "param_grid = {\n",
    "    'n_estimators': [5, 7, 10],\n",
    "    'num_leaves': [3, 5, 7, 10],\n",
    "}\n",
    "search = RandomizedSearchCV(clf, param_grid)\n"
   ]
  },
  {
   "cell_type": "markdown",
   "metadata": {},
   "source": [
    "## Apply ShapRFECV\n",
    "\n",
    "Now let's apply the method."
   ]
  },
  {
   "cell_type": "code",
   "execution_count": 13,
   "metadata": {},
   "outputs": [
    {
     "name": "stderr",
     "output_type": "stream",
     "text": [
      "Removing static features ['f3_static'].\n",
      "The following variables contain missing values ['f2_missing']. Make sure to imputemissing or apply a model that handles them automatically.\n",
      "Changing dtype of ['f1_categorical'] from \"object\" to \"category\". Treating it as categorical variable. Make sure that the model handles categorical variables, or encode them first.\n"
     ]
    },
    {
     "name": "stdout",
     "output_type": "stream",
     "text": [
      "Round: 1, Current number of features: 19, Current performance: Train 0.947 +/- 0.005, CV Validation 0.905 +/- 0.024. \n",
      "Num of features left: 16. Removed features at the end of the round: ['f6', 'f17', 'f4']\n",
      "Round: 2, Current number of features: 16, Current performance: Train 0.947 +/- 0.005, CV Validation 0.905 +/- 0.024. \n",
      "Num of features left: 13. Removed features at the end of the round: ['f2_missing', 'f13', 'f7']\n",
      "Round: 3, Current number of features: 13, Current performance: Train 0.947 +/- 0.005, CV Validation 0.905 +/- 0.024. \n",
      "Num of features left: 11. Removed features at the end of the round: ['f11', 'f18']\n",
      "Round: 4, Current number of features: 11, Current performance: Train 0.961 +/- 0.006, CV Validation 0.91 +/- 0.026. \n",
      "Num of features left: 9. Removed features at the end of the round: ['f10', 'f12']\n",
      "Round: 5, Current number of features: 9, Current performance: Train 0.959 +/- 0.008, CV Validation 0.914 +/- 0.031. \n",
      "Num of features left: 8. Removed features at the end of the round: ['f5']\n",
      "Round: 6, Current number of features: 8, Current performance: Train 0.957 +/- 0.008, CV Validation 0.915 +/- 0.022. \n",
      "Num of features left: 7. Removed features at the end of the round: ['f20']\n",
      "Round: 7, Current number of features: 7, Current performance: Train 0.953 +/- 0.006, CV Validation 0.914 +/- 0.021. \n",
      "Num of features left: 6. Removed features at the end of the round: ['f14']\n",
      "Round: 8, Current number of features: 6, Current performance: Train 0.939 +/- 0.004, CV Validation 0.898 +/- 0.024. \n",
      "Num of features left: 5. Removed features at the end of the round: ['f8']\n",
      "Round: 9, Current number of features: 5, Current performance: Train 0.937 +/- 0.007, CV Validation 0.894 +/- 0.023. \n",
      "Num of features left: 4. Removed features at the end of the round: ['f15']\n",
      "Round: 10, Current number of features: 4, Current performance: Train 0.916 +/- 0.003, CV Validation 0.868 +/- 0.029. \n",
      "Num of features left: 3. Removed features at the end of the round: ['f1_categorical']\n",
      "Round: 11, Current number of features: 3, Current performance: Train 0.891 +/- 0.005, CV Validation 0.867 +/- 0.028. \n",
      "Num of features left: 2. Removed features at the end of the round: ['f9']\n",
      "Round: 12, Current number of features: 2, Current performance: Train 0.842 +/- 0.005, CV Validation 0.818 +/- 0.036. \n",
      "Num of features left: 1. Removed features at the end of the round: ['f19']\n",
      "Round: 13, Current number of features: 1, Current performance: Train 0.76 +/- 0.006, CV Validation 0.721 +/- 0.052. \n",
      "Num of features left: 1. Removed features at the end of the round: []\n"
     ]
    }
   ],
   "source": [
    "shap_elimination = ShapRFECV(\n",
    "    clf=search, step=0.2, cv=10, scoring='roc_auc', n_jobs=3)\n",
    "report = shap_elimination.fit_compute(X, y)"
   ]
  },
  {
   "cell_type": "markdown",
   "metadata": {},
   "source": [
    "At the end of the process, you can investigate the results for each iteration."
   ]
  },
  {
   "cell_type": "code",
   "execution_count": 14,
   "metadata": {},
   "outputs": [
    {
     "data": {
      "text/html": [
       "<div>\n",
       "<style scoped>\n",
       "    .dataframe tbody tr th:only-of-type {\n",
       "        vertical-align: middle;\n",
       "    }\n",
       "\n",
       "    .dataframe tbody tr th {\n",
       "        vertical-align: top;\n",
       "    }\n",
       "\n",
       "    .dataframe thead th {\n",
       "        text-align: right;\n",
       "    }\n",
       "</style>\n",
       "<table border=\"1\" class=\"dataframe\">\n",
       "  <thead>\n",
       "    <tr style=\"text-align: right;\">\n",
       "      <th></th>\n",
       "      <th>num_features</th>\n",
       "      <th>features_set</th>\n",
       "      <th>eliminated_features</th>\n",
       "      <th>train_metric_mean</th>\n",
       "      <th>train_metric_std</th>\n",
       "      <th>val_metric_mean</th>\n",
       "      <th>val_metric_std</th>\n",
       "    </tr>\n",
       "  </thead>\n",
       "  <tbody>\n",
       "    <tr>\n",
       "      <th>1</th>\n",
       "      <td>19</td>\n",
       "      <td>[f1_categorical, f2_missing, f4, f5, f6, f7, f...</td>\n",
       "      <td>[f6, f17, f4]</td>\n",
       "      <td>0.947</td>\n",
       "      <td>0.005</td>\n",
       "      <td>0.905</td>\n",
       "      <td>0.024</td>\n",
       "    </tr>\n",
       "    <tr>\n",
       "      <th>2</th>\n",
       "      <td>16</td>\n",
       "      <td>[f11, f15, f20, f18, f2_missing, f9, f13, f16,...</td>\n",
       "      <td>[f2_missing, f13, f7]</td>\n",
       "      <td>0.947</td>\n",
       "      <td>0.005</td>\n",
       "      <td>0.905</td>\n",
       "      <td>0.024</td>\n",
       "    </tr>\n",
       "    <tr>\n",
       "      <th>3</th>\n",
       "      <td>13</td>\n",
       "      <td>[f11, f15, f20, f18, f9, f16, f19, f1_categori...</td>\n",
       "      <td>[f11, f18]</td>\n",
       "      <td>0.947</td>\n",
       "      <td>0.005</td>\n",
       "      <td>0.905</td>\n",
       "      <td>0.024</td>\n",
       "    </tr>\n",
       "    <tr>\n",
       "      <th>4</th>\n",
       "      <td>11</td>\n",
       "      <td>[f15, f20, f19, f1_categorical, f14, f8, f10, ...</td>\n",
       "      <td>[f10, f12]</td>\n",
       "      <td>0.961</td>\n",
       "      <td>0.006</td>\n",
       "      <td>0.910</td>\n",
       "      <td>0.026</td>\n",
       "    </tr>\n",
       "    <tr>\n",
       "      <th>5</th>\n",
       "      <td>9</td>\n",
       "      <td>[f19, f15, f20, f1_categorical, f14, f8, f9, f...</td>\n",
       "      <td>[f5]</td>\n",
       "      <td>0.959</td>\n",
       "      <td>0.008</td>\n",
       "      <td>0.914</td>\n",
       "      <td>0.031</td>\n",
       "    </tr>\n",
       "  </tbody>\n",
       "</table>\n",
       "</div>"
      ],
      "text/plain": [
       "   num_features                                       features_set  \\\n",
       "1            19  [f1_categorical, f2_missing, f4, f5, f6, f7, f...   \n",
       "2            16  [f11, f15, f20, f18, f2_missing, f9, f13, f16,...   \n",
       "3            13  [f11, f15, f20, f18, f9, f16, f19, f1_categori...   \n",
       "4            11  [f15, f20, f19, f1_categorical, f14, f8, f10, ...   \n",
       "5             9  [f19, f15, f20, f1_categorical, f14, f8, f9, f...   \n",
       "\n",
       "     eliminated_features  train_metric_mean  train_metric_std  \\\n",
       "1          [f6, f17, f4]              0.947             0.005   \n",
       "2  [f2_missing, f13, f7]              0.947             0.005   \n",
       "3             [f11, f18]              0.947             0.005   \n",
       "4             [f10, f12]              0.961             0.006   \n",
       "5                   [f5]              0.959             0.008   \n",
       "\n",
       "   val_metric_mean  val_metric_std  \n",
       "1            0.905           0.024  \n",
       "2            0.905           0.024  \n",
       "3            0.905           0.024  \n",
       "4            0.910           0.026  \n",
       "5            0.914           0.031  "
      ]
     },
     "execution_count": 14,
     "metadata": {},
     "output_type": "execute_result"
    }
   ],
   "source": [
    "report.head()"
   ]
  },
  {
   "cell_type": "markdown",
   "metadata": {},
   "source": [
    "Once the process is completed, you can visualize the results. \n",
    "\n",
    "Let's investigate the performance plot. In this case, the Validation AUC score has a peak at 9 features."
   ]
  },
  {
   "cell_type": "code",
   "execution_count": 15,
   "metadata": {},
   "outputs": [
    {
     "data": {
      "image/png": "[encoded data removed]",
      "text/plain": [
       "<Figure size 432x288 with 1 Axes>"
      ]
     },
     "metadata": {
      "needs_background": "light"
     },
     "output_type": "display_data"
    }
   ],
   "source": [
    "performance_plot = shap_elimination.plot()"
   ]
  },
  {
   "cell_type": "markdown",
   "metadata": {},
   "source": [
    "Let's see the final feature set:"
   ]
  },
  {
   "cell_type": "code",
   "execution_count": 8,
   "metadata": {},
   "outputs": [
    {
     "data": {
      "text/plain": [
       "['f19', 'f15', 'f20', 'f1_categorical', 'f14', 'f8', 'f9', 'f16', 'f5']"
      ]
     },
     "execution_count": 8,
     "metadata": {},
     "output_type": "execute_result"
    }
   ],
   "source": [
    "shap_elimination.get_reduced_features_set(num_features=9)"
   ]
  },
  {
   "cell_type": "code",
   "execution_count": null,
   "metadata": {},
   "outputs": [],
   "source": []
  }
 ],
 "metadata": {
  "kernelspec": {
   "display_name": "Python 3",
   "language": "python",
   "name": "python3"
  },
  "language_info": {
   "codemirror_mode": {
    "name": "ipython",
    "version": 3
   },
   "file_extension": ".py",
   "mimetype": "text/x-python",
   "name": "python",
   "nbconvert_exporter": "python",
   "pygments_lexer": "ipython3",
   "version": "3.7.4"
  }
 },
 "nbformat": 4,
 "nbformat_minor": 4
}
